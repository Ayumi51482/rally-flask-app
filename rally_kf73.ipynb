{
  "nbformat": 4,
  "nbformat_minor": 0,
  "metadata": {
    "colab": {
      "provenance": [],
      "authorship_tag": "ABX9TyNAGVgZW0ZmGH7C6iaMuK6g",
      "include_colab_link": true
    },
    "kernelspec": {
      "name": "python3",
      "display_name": "Python 3"
    },
    "language_info": {
      "name": "python"
    }
  },
  "cells": [
    {
      "cell_type": "markdown",
      "metadata": {
        "id": "view-in-github",
        "colab_type": "text"
      },
      "source": [
        "<a href=\"https://colab.research.google.com/github/Ayumi51482/rally-flask-app/blob/main/rally_kf73.ipynb\" target=\"_parent\"><img src=\"https://colab.research.google.com/assets/colab-badge.svg\" alt=\"Open In Colab\"/></a>"
      ]
    },
    {
      "cell_type": "code",
      "source": [
        "## import and install\n",
        "!pip install flask pandas gspread matplotlib pytz pyngrok\n",
        "\n",
        "from oauth2client.service_account import ServiceAccountCredentials\n",
        "from collections import defaultdict\n",
        "from datetime import datetime\n",
        "import subprocess\n",
        "import sys\n",
        "import pytz\n",
        "from flask import Flask, render_template, request, redirect, url_for\n",
        "import gspread\n",
        "from oauth2client.service_account import ServiceAccountCredentials\n",
        "from pyngrok import ngrok\n",
        "# ここに取得したAuthtokenを入力\n",
        "ngrok.set_auth_token('2rBuL3S8ZEZDcNiM7NqWRXBPL7I_3wwAEYaxH6dmuGUXtryqD')\n",
        "from collections import defaultdict\n",
        "import os\n",
        "import shutil\n",
        "import threading\n",
        "import datetime"
      ],
      "metadata": {
        "id": "WnLZGEu1adht",
        "colab": {
          "base_uri": "https://localhost:8080/"
        },
        "outputId": "3c417d3a-32ab-48f4-87cd-a9c0c2e18dcd",
        "collapsed": true
      },
      "execution_count": 7,
      "outputs": [
        {
          "output_type": "stream",
          "name": "stdout",
          "text": [
            "Requirement already satisfied: flask in /usr/local/lib/python3.10/dist-packages (3.1.0)\n",
            "Requirement already satisfied: pandas in /usr/local/lib/python3.10/dist-packages (2.2.2)\n",
            "Requirement already satisfied: gspread in /usr/local/lib/python3.10/dist-packages (6.0.2)\n",
            "Requirement already satisfied: matplotlib in /usr/local/lib/python3.10/dist-packages (3.8.0)\n",
            "Requirement already satisfied: Werkzeug>=3.1 in /usr/local/lib/python3.10/dist-packages (from flask) (3.1.3)\n",
            "Requirement already satisfied: Jinja2>=3.1.2 in /usr/local/lib/python3.10/dist-packages (from flask) (3.1.4)\n",
            "Requirement already satisfied: itsdangerous>=2.2 in /usr/local/lib/python3.10/dist-packages (from flask) (2.2.0)\n",
            "Requirement already satisfied: click>=8.1.3 in /usr/local/lib/python3.10/dist-packages (from flask) (8.1.7)\n",
            "Requirement already satisfied: blinker>=1.9 in /usr/local/lib/python3.10/dist-packages (from flask) (1.9.0)\n",
            "Requirement already satisfied: numpy>=1.22.4 in /usr/local/lib/python3.10/dist-packages (from pandas) (1.26.4)\n",
            "Requirement already satisfied: python-dateutil>=2.8.2 in /usr/local/lib/python3.10/dist-packages (from pandas) (2.8.2)\n",
            "Requirement already satisfied: pytz>=2020.1 in /usr/local/lib/python3.10/dist-packages (from pandas) (2024.2)\n",
            "Requirement already satisfied: tzdata>=2022.7 in /usr/local/lib/python3.10/dist-packages (from pandas) (2024.2)\n",
            "Requirement already satisfied: google-auth>=1.12.0 in /usr/local/lib/python3.10/dist-packages (from gspread) (2.27.0)\n",
            "Requirement already satisfied: google-auth-oauthlib>=0.4.1 in /usr/local/lib/python3.10/dist-packages (from gspread) (1.2.1)\n",
            "Requirement already satisfied: StrEnum==0.4.15 in /usr/local/lib/python3.10/dist-packages (from gspread) (0.4.15)\n",
            "Requirement already satisfied: contourpy>=1.0.1 in /usr/local/lib/python3.10/dist-packages (from matplotlib) (1.3.1)\n",
            "Requirement already satisfied: cycler>=0.10 in /usr/local/lib/python3.10/dist-packages (from matplotlib) (0.12.1)\n",
            "Requirement already satisfied: fonttools>=4.22.0 in /usr/local/lib/python3.10/dist-packages (from matplotlib) (4.55.3)\n",
            "Requirement already satisfied: kiwisolver>=1.0.1 in /usr/local/lib/python3.10/dist-packages (from matplotlib) (1.4.7)\n",
            "Requirement already satisfied: packaging>=20.0 in /usr/local/lib/python3.10/dist-packages (from matplotlib) (24.2)\n",
            "Requirement already satisfied: pillow>=6.2.0 in /usr/local/lib/python3.10/dist-packages (from matplotlib) (11.0.0)\n",
            "Requirement already satisfied: pyparsing>=2.3.1 in /usr/local/lib/python3.10/dist-packages (from matplotlib) (3.2.0)\n",
            "Requirement already satisfied: cachetools<6.0,>=2.0.0 in /usr/local/lib/python3.10/dist-packages (from google-auth>=1.12.0->gspread) (5.5.0)\n",
            "Requirement already satisfied: pyasn1-modules>=0.2.1 in /usr/local/lib/python3.10/dist-packages (from google-auth>=1.12.0->gspread) (0.4.1)\n",
            "Requirement already satisfied: rsa<5,>=3.1.4 in /usr/local/lib/python3.10/dist-packages (from google-auth>=1.12.0->gspread) (4.9)\n",
            "Requirement already satisfied: requests-oauthlib>=0.7.0 in /usr/local/lib/python3.10/dist-packages (from google-auth-oauthlib>=0.4.1->gspread) (1.3.1)\n",
            "Requirement already satisfied: MarkupSafe>=2.0 in /usr/local/lib/python3.10/dist-packages (from Jinja2>=3.1.2->flask) (3.0.2)\n",
            "Requirement already satisfied: six>=1.5 in /usr/local/lib/python3.10/dist-packages (from python-dateutil>=2.8.2->pandas) (1.17.0)\n",
            "Requirement already satisfied: pyasn1<0.7.0,>=0.4.6 in /usr/local/lib/python3.10/dist-packages (from pyasn1-modules>=0.2.1->google-auth>=1.12.0->gspread) (0.6.1)\n",
            "Requirement already satisfied: oauthlib>=3.0.0 in /usr/local/lib/python3.10/dist-packages (from requests-oauthlib>=0.7.0->google-auth-oauthlib>=0.4.1->gspread) (3.2.2)\n",
            "Requirement already satisfied: requests>=2.0.0 in /usr/local/lib/python3.10/dist-packages (from requests-oauthlib>=0.7.0->google-auth-oauthlib>=0.4.1->gspread) (2.32.3)\n",
            "Requirement already satisfied: charset-normalizer<4,>=2 in /usr/local/lib/python3.10/dist-packages (from requests>=2.0.0->requests-oauthlib>=0.7.0->google-auth-oauthlib>=0.4.1->gspread) (3.4.0)\n",
            "Requirement already satisfied: idna<4,>=2.5 in /usr/local/lib/python3.10/dist-packages (from requests>=2.0.0->requests-oauthlib>=0.7.0->google-auth-oauthlib>=0.4.1->gspread) (3.10)\n",
            "Requirement already satisfied: urllib3<3,>=1.21.1 in /usr/local/lib/python3.10/dist-packages (from requests>=2.0.0->requests-oauthlib>=0.7.0->google-auth-oauthlib>=0.4.1->gspread) (2.2.3)\n",
            "Requirement already satisfied: certifi>=2017.4.17 in /usr/local/lib/python3.10/dist-packages (from requests>=2.0.0->requests-oauthlib>=0.7.0->google-auth-oauthlib>=0.4.1->gspread) (2024.12.14)\n",
            "Requirement already satisfied: pytz in /usr/local/lib/python3.10/dist-packages (2024.2)\n",
            "Collecting pyngrok\n",
            "  Downloading pyngrok-7.2.2-py3-none-any.whl.metadata (8.4 kB)\n",
            "Requirement already satisfied: PyYAML>=5.1 in /usr/local/lib/python3.10/dist-packages (from pyngrok) (6.0.2)\n",
            "Downloading pyngrok-7.2.2-py3-none-any.whl (22 kB)\n",
            "Installing collected packages: pyngrok\n",
            "Successfully installed pyngrok-7.2.2\n"
          ]
        }
      ]
    },
    {
      "cell_type": "code",
      "source": [
        "# 認証情報のファイルパス、公開鍵のファイルを手動でアップロードするべし\n",
        "creds = ServiceAccountCredentials.from_json_keyfile_name(\n",
        "    'rally-kf73-21a154fc2a7e.json',\n",
        "    ['https://spreadsheets.google.com/feeds', 'https://www.googleapis.com/auth/drive']\n",
        ")\n",
        "# 認証してGoogle Sheets APIにアクセス\n",
        "client = gspread.authorize(creds)\n"
      ],
      "metadata": {
        "id": "oL3p1VUrdodw"
      },
      "execution_count": null,
      "outputs": []
    },
    {
      "cell_type": "code",
      "source": [
        "# 日本時間(JST)を指定\n",
        "jst = pytz.timezone('Asia/Tokyo')\n",
        "\n",
        "# 現在の日本時間を取得\n",
        "current_time_jst = datetime.datetime.now(jst).strftime('%Y-%m-%d %H:%M:%S')"
      ],
      "metadata": {
        "id": "3ow2j-5aeQ7p"
      },
      "execution_count": null,
      "outputs": []
    },
    {
      "cell_type": "code",
      "source": [
        "##ここからFlaskでアプリを実装していく"
      ],
      "metadata": {
        "id": "7WZ-5p9eeyao"
      },
      "execution_count": null,
      "outputs": []
    },
    {
      "cell_type": "code",
      "source": [
        "# Sheet1の参照（シート名が「Sheet1」だと仮定）\n",
        "sheet = client.open('rally-kf73').worksheet('生データ')\n",
        "# Sheet2の参照（シート名が「Sheet2」だと仮定）\n",
        "sheet2 = client.open('rally-kf73').worksheet('時間ごと集計')\n",
        "\n",
        "# ヘッダーを設定\n",
        "header1 = ['日付', '時間', 'AAA', 'BBB', 'CCC', '年代']\n",
        "sheet.insert_row(header1 ,1)\n",
        "header2 = ['日付', '時間', 'AAAのクリア人数', 'BBBのクリア人数', 'CCCのクリア人数', '合計人数']\n",
        "sheet2.insert_row(header2 ,1)\n",
        "\n",
        "records = sheet.get_all_records()\n",
        "print(len(records))  # データが何件取得されたか確認\n",
        "if len(records) > 0:\n",
        "    print(records[0])  # 最初のレコードを表示してカラム名を確認\n",
        "else:\n",
        "    print(\"シートにデータがありません。\")"
      ],
      "metadata": {
        "colab": {
          "base_uri": "https://localhost:8080/"
        },
        "id": "Q6cACE0TABRY",
        "outputId": "66c12c1d-1bbd-49be-b4c2-9a13acb29dfe"
      },
      "execution_count": null,
      "outputs": [
        {
          "output_type": "stream",
          "name": "stdout",
          "text": [
            "1\n",
            "{'日付': '日付', '時間': '時間', 'AAA': 'AAA', 'BBB': 'BBB', 'CCC': 'CCC', '年代': '年代'}\n"
          ]
        }
      ]
    },
    {
      "cell_type": "code",
      "source": [
        "###実行する時はここ###\n",
        "\n",
        "\n",
        "# Flaskアプリの作成\n",
        "app = Flask(__name__)\n",
        "\n",
        "# 認証情報のセットアップ\n",
        "creds = ServiceAccountCredentials.from_json_keyfile_name(\n",
        "    'rally-kf73-21a154fc2a7e.json',\n",
        "    ['https://spreadsheets.google.com/feeds', 'https://www.googleapis.com/auth/drive']\n",
        ")\n",
        "client = gspread.authorize(creds)\n",
        "\n",
        "## 送信画面のルーティング\n",
        "@app.route('/')\n",
        "def index():\n",
        "     return render_template('index.html', current_time=current_time_jst)\n",
        "\n",
        "##フォーム送信のルーティング\n",
        "@app.route('/submit', methods=['POST'])\n",
        "def submit():\n",
        "    # 現在時刻を取得\n",
        "    jst = pytz.timezone('Asia/Tokyo')\n",
        "    current_day_jst = datetime.datetime.now(jst).strftime('%Y-%m-%d')\n",
        "    current_time_jst = datetime.datetime.now(jst).strftime('%H:%M:%S')\n",
        "\n",
        "    # フォームデータを取得\n",
        "    selected_items = request.form.getlist('clear_count')  # 選択されたチェックボックスのリスト\n",
        "    age_group = request.form.get('age_group')  # 年代\n",
        "\n",
        "    # AAA, BBB, CCC の選択状態を確認して 1 or 0 に変換\n",
        "    aaa = 1 if 'AAA' in selected_items else 0\n",
        "    bbb = 1 if 'BBB' in selected_items else 0\n",
        "    ccc = 1 if 'CCC' in selected_items else 0\n",
        "\n",
        "    # スプレッドシートにデータを記録\n",
        "    sheet.append_row([current_day_jst, current_time_jst, aaa, bbb, ccc, age_group])\n",
        "\n",
        "    return redirect(url_for('index'))\n",
        "\n",
        "## Flaskアプリ起動\n",
        "if __name__ == '__main__':\n",
        "    app.run(debug=False)  # HerokuやRenderではデバッグモードを無効化\n",
        "\n",
        "######Cloudで固定URLにするため使わない\n",
        "# # ngrokのトンネルを作成\n",
        "# public_url = ngrok.connect(5000)\n",
        "# print('Flask app is publicly accessible at:', public_url)\n",
        "\n",
        "# # Flaskアプリをバックグラウンドで実行するためのスレッドを作成\n",
        "# def run_flask():\n",
        "#     app.run(debug=True, port=5000, use_reloader=False, use_debugger=False)\n",
        "# if __name__ == '__main__':\n",
        "#     threading.Thread(target=run_flask).start()  # Flaskアプリをバックグラウンドで実行"
      ],
      "metadata": {
        "id": "YBaII9ATnC48"
      },
      "execution_count": null,
      "outputs": []
    },
    {
      "cell_type": "code",
      "source": [],
      "metadata": {
        "id": "RAuQk4GnQJt3"
      },
      "execution_count": null,
      "outputs": []
    },
    {
      "cell_type": "code",
      "source": [
        "##herokuのログインがうまくいかないので、renderでやるよん\n",
        "# ライブラリをインストールする関数\n",
        "def install_package(package_name):\n",
        "    subprocess.check_call([sys.executable, \"-m\", \"pip\", \"install\", package_name])\n",
        "\n",
        "# 必要なライブラリをリストアップ\n",
        "packages = [\"gitpython\"]\n",
        "\n",
        "# ライブラリを順にインストール\n",
        "for package in packages:\n",
        "    try:\n",
        "        install_package(package)\n",
        "        print(f\"Successfully installed {package}\")\n",
        "    except Exception as e:\n",
        "        print(f\"Error installing {package}: {e}\")"
      ],
      "metadata": {
        "colab": {
          "base_uri": "https://localhost:8080/"
        },
        "id": "sOcqpLO1QAwo",
        "outputId": "496fec82-9437-411e-b74f-2cbed1e1b51c"
      },
      "execution_count": 8,
      "outputs": [
        {
          "output_type": "stream",
          "name": "stdout",
          "text": [
            "Successfully installed gitpython\n"
          ]
        }
      ]
    },
    {
      "cell_type": "code",
      "source": [
        "import os\n",
        "from git import Repo\n",
        "\n",
        "# 1. リポジトリの情報を設定\n",
        "LOCAL_REPO_PATH = \"./my_flask_app\"  # プロジェクトのディレクトリ\n",
        "REMOTE_URL = \"https://github.com/<your-username>/<repository-name>.git\"  # GitHubリポジトリURL\n",
        "\n",
        "# 2. ローカルリポジトリを初期化\n",
        "if not os.path.exists(LOCAL_REPO_PATH):\n",
        "    os.makedirs(LOCAL_REPO_PATH)\n",
        "    print(f\"Created directory: {LOCAL_REPO_PATH}\")\n",
        "\n",
        "repo = Repo.init(LOCAL_REPO_PATH)\n",
        "print(f\"Initialized Git repository at: {LOCAL_REPO_PATH}\")\n",
        "\n",
        "# 3. ファイルを追加\n",
        "# 必要に応じてプロジェクトファイルを準備する\n",
        "with open(os.path.join(LOCAL_REPO_PATH, \"app.py\"), \"w\") as f:\n",
        "    f.write(\"from flask import Flask\\napp = Flask(__name__)\\n\\n@app.route('/')\\ndef hello():\\n    return 'Hello, World!'\\n\\nif __name__ == '__main__':\\n    app.run(debug=True)\")\n",
        "\n",
        "with open(os.path.join(LOCAL_REPO_PATH, \"requirements.txt\"), \"w\") as f:\n",
        "    f.write(\"flask\\n\")\n",
        "\n",
        "repo.index.add([\"app.py\", \"requirements.txt\"])\n",
        "repo.index.commit(\"Initial commit with Flask app\")\n",
        "\n",
        "# 4. リモートリポジトリを設定\n",
        "origin = repo.create_remote(\"origin\", REMOTE_URL)\n",
        "print(f\"Added remote repository: {REMOTE_URL}\")\n",
        "\n",
        "# 5. プッシュ操作\n",
        "try:\n",
        "    repo.git.push(\"--set-upstream\", \"origin\", \"main\")\n",
        "    print(f\"Pushed to {REMOTE_URL}\")\n",
        "except Exception as e:\n",
        "    print(f\"Error pushing to remote: {e}\")"
      ],
      "metadata": {
        "colab": {
          "base_uri": "https://localhost:8080/"
        },
        "id": "YqHsukXJ8amc",
        "outputId": "401db954-cfc2-4428-8561-473730662e12"
      },
      "execution_count": 9,
      "outputs": [
        {
          "output_type": "stream",
          "name": "stdout",
          "text": [
            "Created directory: ./my_flask_app\n",
            "Initialized Git repository at: ./my_flask_app\n",
            "Added remote repository: https://github.com/<your-username>/<repository-name>.git\n",
            "Error pushing to remote: Cmd('git') failed due to: exit code(1)\n",
            "  cmdline: git push --set-upstream origin main\n",
            "  stderr: 'error: src refspec main does not match any\n",
            "error: failed to push some refs to 'https://github.com/<your-username>/<repository-name>.git''\n"
          ]
        }
      ]
    },
    {
      "cell_type": "code",
      "source": [
        "with open(\"index.html\", \"w\", encoding=\"utf-8\") as f:\n",
        "    f.write(\"\"\"<!DOCTYPE html>\n",
        "<html lang=\"ja\">\n",
        "<head>\n",
        "    <meta charset=\"UTF-8\">\n",
        "    <meta name=\"viewport\" content=\"width=device-width, initial-scale=1.0\">\n",
        "    <title>スタンプラリー受付</title>\n",
        "</head>\n",
        "<body>\n",
        "    <h1>スタンプラリー受付</h1>\n",
        "    <p>現在の時刻: {{ current_time }}</p>\n",
        "\n",
        "    <form method=\"POST\" action=\"/submit\">\n",
        "    <h3>クリア数を選択してください:</h3>\n",
        "    <input type=\"checkbox\" id=\"AAA\" name=\"clear_count\" value=\"AAA\"> AAA\n",
        "    <input type=\"checkbox\" id=\"BBB\" name=\"clear_count\" value=\"BBB\"> BBB\n",
        "    <input type=\"checkbox\" id=\"CCC\" name=\"clear_count\" value=\"CCC\"> CCC\n",
        "    <br><br>\n",
        "\n",
        "    <label for=\"age_group\">年代:</label><br>\n",
        "    <select name=\"age_group\" id=\"age_group\">\n",
        "        <option value=\"中高生\">中高生</option>\n",
        "        <option value=\"大学生-20代\">大学生-20代</option>\n",
        "        <option value=\"30代-60代\">30代-60代</option>\n",
        "        <option value=\"60代以上\">60代以上</option>\n",
        "    </select>\n",
        "    <br><br>\n",
        "\n",
        "    <button type=\"submit\">送信</button>\n",
        "    </form>\n",
        "</body>\n",
        "</html>\n",
        "  \"\"\")"
      ],
      "metadata": {
        "id": "8nkwmK45krBK"
      },
      "execution_count": null,
      "outputs": []
    },
    {
      "cell_type": "code",
      "source": [
        "# 'index.html'ファイルを作成して保存\n",
        "# templatesというフォルダを作成\n",
        "os.makedirs('templates', exist_ok=True)\n",
        "\n",
        "\n",
        "## index.htmlをtemplateフォルダに移籍\n",
        "source = \"index.html\"\n",
        "destination_folder = \"templates\"\n",
        "shutil.move(source, os.path.join(destination_folder, source))\n",
        "print(f\"'{source}' を '{destination_folder}' フォルダに移動しました！\")"
      ],
      "metadata": {
        "id": "G-h56cwJmFO-",
        "colab": {
          "base_uri": "https://localhost:8080/"
        },
        "outputId": "54c5fadc-59d7-4433-fef5-ced837ad9a0d"
      },
      "execution_count": null,
      "outputs": [
        {
          "output_type": "stream",
          "name": "stdout",
          "text": [
            "'index.html' を 'templates' フォルダに移動しました！\n"
          ]
        }
      ]
    },
    {
      "cell_type": "code",
      "source": [
        "## ngrokが３個以上働いているから実行できない時の対処法\n",
        "\n",
        "subprocess.check_call([sys.executable, \"-m\", \"pip\", \"install\", \"psutil\"])\n",
        "import psutil\n",
        "\n",
        "# ngrokのプロセスを全て終了させる関数\n",
        "def kill_ngrok():\n",
        "    for proc in psutil.process_iter(['pid', 'name']):\n",
        "        if 'ngrok' in proc.info['name'].lower():\n",
        "            proc.kill()\n",
        "            print(f\"Killed ngrok process: {proc.info['pid']}\")\n",
        "\n",
        "# ngrokを終了させる\n",
        "kill_ngrok()\n",
        "\n",
        "# 'ngrok'プロセスが存在するか確認\n",
        "def check_ngrok_running():\n",
        "    for proc in psutil.process_iter(['pid', 'name']):\n",
        "        if 'ngrok' in proc.info['name'].lower():\n",
        "            return True\n",
        "    return False\n",
        "\n",
        "# ngrokが実行中かどうかを確認\n",
        "if check_ngrok_running():\n",
        "    print(\"ngrok is running\")\n",
        "else:\n",
        "    print(\"ngrok is not running\")\n"
      ],
      "metadata": {
        "id": "rbOnGxSDyYoL",
        "colab": {
          "base_uri": "https://localhost:8080/"
        },
        "outputId": "8b25fe72-863c-4cdd-e42a-57a4865d2cf4"
      },
      "execution_count": null,
      "outputs": [
        {
          "output_type": "stream",
          "name": "stdout",
          "text": [
            "ngrok is not running\n"
          ]
        }
      ]
    },
    {
      "cell_type": "code",
      "source": [],
      "metadata": {
        "id": "ZQbCZz18rFsi"
      },
      "execution_count": null,
      "outputs": []
    }
  ]
}